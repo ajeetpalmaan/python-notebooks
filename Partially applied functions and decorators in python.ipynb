{
 "metadata": {
  "name": ""
 },
 "nbformat": 3,
 "nbformat_minor": 0,
 "worksheets": [
  {
   "cells": [
    {
     "cell_type": "heading",
     "level": 1,
     "metadata": {},
     "source": [
      "Partially applied functions and decorators in python"
     ]
    },
    {
     "cell_type": "markdown",
     "metadata": {},
     "source": [
      "This is not a quick tutorial. It will tell you all you need to know about decorators, but slowly build ups the necessary theoretical and technical background in terms of partially applied functions, closures and lexical scoping before eventually discussing decorators. "
     ]
    },
    {
     "cell_type": "heading",
     "level": 2,
     "metadata": {},
     "source": [
      "Partial application of functions"
     ]
    },
    {
     "cell_type": "markdown",
     "metadata": {},
     "source": [
      "As per the wikipedia article on [Partial Application](http://en.wikipedia.org/wiki/Partial_application),\n",
      "\n",
      "> In computer science, partial application (or partial function application) refers to the process of fixing a number of arguments to a function, producing another function of smaller arity. Given a function $\\scriptstyle f \\colon (X \\times Y \\times Z) \\to N$ , we might fix (or 'bind') the first argument, producing a function of type  $\\scriptstyle\\text{partial}(f) \\colon (Y \\times Z) \\to N$ .  Evaluation of this function might be represented as $f_{partial}(2, 3)$. Note that the result of partial function application in this case is a function that takes two arguments.\n",
      "\n",
      "Thus if you have a function $f$ with arguments $x_{1}, x_{2}, .. x_{n}$, a partial application technique would allow you to\n",
      "\n",
      "* Create a partially applied function $f_{partial}$ specifying only a subset of the arguments $x_{1}, x_{2}, .. x_{n}$. Assuming them to be the first two, it would be $f_{partial} = f(x_{1},x_{2})$\n",
      "* Use the partially applied function with the remainder of the arguments to get the same result as one would have got from the original function. Continuing with the above assumption that would allow you to do $f_{partial}(x_{3},x_{4},..., x_{n})$"
     ]
    },
    {
     "cell_type": "heading",
     "level": 2,
     "metadata": {},
     "source": [
      "Partial application in python"
     ]
    },
    {
     "cell_type": "markdown",
     "metadata": {},
     "source": [
      "Let us start with a simple function add"
     ]
    },
    {
     "cell_type": "code",
     "collapsed": false,
     "input": [
      "def add(a,b) :\n",
      "    return a + b\n",
      "\n",
      "print(\"Adding 2 and 3 results in {}\".format(add(2,3)))\n"
     ],
     "language": "python",
     "metadata": {},
     "outputs": [
      {
       "output_type": "stream",
       "stream": "stdout",
       "text": [
        "Adding 2 and 3 results in 5\n"
       ]
      }
     ],
     "prompt_number": 2
    },
    {
     "cell_type": "markdown",
     "metadata": {},
     "source": [
      "Let us look at two different ways of partial application in python"
     ]
    },
    {
     "cell_type": "heading",
     "level": 3,
     "metadata": {},
     "source": [
      "Partial application using nested functions"
     ]
    },
    {
     "cell_type": "code",
     "collapsed": false,
     "input": [
      "def add(a) :\n",
      "    def add_a_to(b) :\n",
      "        return a + b\n",
      "    return add_a_to\n",
      "\n",
      "print(\"Adding 2 and 3 results in {}\".format(add(2)(3)))\n",
      "add2 = add(2)\n",
      "print(\"Calling add with 2 alone returns {}, a {} with the name '{}'\".format(\n",
      "    add2, type(add2), add2.__name__))"
     ],
     "language": "python",
     "metadata": {},
     "outputs": [
      {
       "output_type": "stream",
       "stream": "stdout",
       "text": [
        "Adding 2 and 3 results in 5\n",
        "Calling add with 2 alone results in <function add_a_to at 0x33eb848> which is a <type 'function'> with the name 'add_a_to'\n"
       ]
      }
     ],
     "prompt_number": 8
    },
    {
     "cell_type": "markdown",
     "metadata": {},
     "source": [
      "Note the following :\n",
      "\n",
      "* In this implementation we changed the calling syntax from **add(2,3)** to **add(2)(3)**\n",
      "* This is because we now make two function calls. The first call is **add(2)** which results in a function being returned called **add_a_to** . We then call **add_a_to(3)**. However since we just chain the function calls together, it is succinctly written as **add(2)(3)**\n",
      "* The implementation technique of nesting one function inside another is often referred to as **nested functions**. It requires structural modification of the function definition itself."
     ]
    },
    {
     "cell_type": "heading",
     "level": 3,
     "metadata": {},
     "source": [
      "Partial application using functools.partial"
     ]
    },
    {
     "cell_type": "markdown",
     "metadata": {},
     "source": [
      "This technique does not require us to rewrite the function differently. It does allow us to first pass any arbitrary subset of arguments (eg. the second argument ie, 3 above), create a partially applied function using functools.partial and then use that to subsequently invoke the function with the remainder of the arguments. For reference see [functools.partial](http://docs.python.org/3/library/functools.html) in python documentation"
     ]
    },
    {
     "cell_type": "code",
     "collapsed": false,
     "input": [
      "from functools import partial\n",
      "\n",
      "def add(a, b):\n",
      "    return a + b\n",
      "\n",
      "added_b_as_3 = partial(add, b=3)\n",
      "print(\"add partially applied with 2nd argument as 3 results in {}\".format(\n",
      "    added_b_as_3))\n",
      "print(\"Adding 2 to 3 using partial application results in {}\".format(\n",
      "    added_b_as_3(2)))\n",
      "print(\"Partial applications using functools.partial can be inlined, \" +\n",
      "    \"though unlikely to be used so.\")\n",
      "print(\"2 + 3, ie. partial(add,b=3)(2) = {}\".format(partial(add,b=3)(2)))"
     ],
     "language": "python",
     "metadata": {},
     "outputs": [
      {
       "output_type": "stream",
       "stream": "stdout",
       "text": [
        "add partially applied with 2nd argument as 3 results in <functools.partial object at 0x32c8470>\n",
        "Adding 2 to 3 using partial application results in 5\n",
        "Partial applications using functools.partial can be inlined, though unlikely to be used so.\n",
        "2 + 3, ie. partial(add,b=3)(2) = 5\n"
       ]
      }
     ],
     "prompt_number": 21
    },
    {
     "cell_type": "heading",
     "level": 2,
     "metadata": {},
     "source": [
      "Why is partial application useful ?"
     ]
    },
    {
     "cell_type": "markdown",
     "metadata": {},
     "source": [
      "Partial application helps us implement spatial and temporal separation. \n",
      "\n",
      "* Spatial separation : Partial argument lists can be specified at different places in the code. This might be convenient from just a structuring perspective or perhaps from the perspective of lexical scoping.\n",
      "* Temporal separation: Partial argument lists can be partially applied at different times in the execution of the code. This is convenient say when some arguments are to be included in the code itself, some are to be partially applied only at the program startup configuration time and some others might be required at runtime. "
     ]
    },
    {
     "cell_type": "heading",
     "level": 2,
     "metadata": {},
     "source": [
      "A tour of closures and lexical scope"
     ]
    },
    {
     "cell_type": "markdown",
     "metadata": {},
     "source": [
      "Typical usage of decorators leverages the capabilities afforded by closures and lexical scope. As a result let us take a quick side tour of these.\n",
      "\n",
      "According to the wikipedia page on [Closure](http://en.wikipedia.org/wiki/Closure_(computer_science)) \n",
      "\n",
      "> In programming languages, a closure (also lexical closure or function closure) is a function or reference to a function together with a referencing environment\u2014a table storing a reference to each of the non-local variables (also called free variables or upvalues) of that function. A closure\u2014unlike a plain function pointer\u2014allows a function to access those non-local variables even when invoked outside its immediate lexical scope.\n",
      "\n",
      "Also on the page of [Scope : Lexical vs. dynamic scoping](http://en.wikipedia.org/wiki/Scope_(computer_science)#Lexical_scoping_and_dynamic_scoping) we can find the words\n",
      "\n",
      "> In lexical scoping (or lexical scope; also called static scoping or static scope), if a variable name's scope is a certain function, then its scope is the program text of the function definition: within that text, the variable name exists, and is bound to the variable's value, but outside that text, the variable name does not exist\n",
      "\n",
      "Let us explore this in the context of python programs"
     ]
    },
    {
     "cell_type": "code",
     "collapsed": false,
     "input": [
      "var1 = 3\n",
      "var2 = 4\n",
      "\n",
      "def foo() :\n",
      "    var2 = 5\n",
      "    print(\"Value of var2 is {}\".format(var2))\n",
      "    print(\"Global var1={}, var2={}\".format(globals()[\"var1\"], globals()[\"var2\"]))\n",
      "    print(\"Locals are {}\".format(locals()))\n",
      "    var1 = 9\n",
      "    print(\"Value of var1 is {} and var2 is {}\".format(var1, var2))\n",
      "    print(\"Global var1={}, var2={}\".format(globals()[\"var1\"], globals()[\"var2\"]))\n",
      "    print(\"Locals are {}\".format(locals()))\n",
      "\n",
      "foo()\n",
      "print(\"Outside the function, value of var1 is {} and var2 is {}\".format(var1, var2))\n"
     ],
     "language": "python",
     "metadata": {},
     "outputs": [
      {
       "output_type": "stream",
       "stream": "stdout",
       "text": [
        "Value of var2 is 5\n",
        "Global var1=3, var2=4\n",
        "Locals are {'var2': 5}\n",
        "Value of var1 is 9 and var2 is 5\n",
        "Global var1=3, var2=4\n",
        "Locals are {'var1': 9, 'var2': 5}\n",
        "Outside the function, value of var1 is 3 and var2 is 4\n"
       ]
      }
     ],
     "prompt_number": 22
    },
    {
     "cell_type": "markdown",
     "metadata": {},
     "source": [
      "I would like to highlight the following \n",
      "\n",
      "* Variables declared in the global scope are accessible to a function explicitly via the *globals()* function\n",
      "* Variables declared within the function scope are accessible to a function either implicitly or explicitly via the *locals()* function\n",
      "* A global variable redeclared within the function scope results in two variables, one in the global and another in local scope. However the local binding shadows the global binding. \n",
      "* When a function declaration concludes, its scope is over and the local bindings in that function cease to be relevant\n",
      "\n",
      "Now let us take a look at another program which uses nested functions and will require us to revisit the last point I make above."
     ]
    },
    {
     "cell_type": "code",
     "collapsed": false,
     "input": [
      "var = 5\n",
      "\n",
      "def outer(arg):\n",
      "    var = arg\n",
      "    def inner() :\n",
      "        print(\"The value of var is {}\".format(var))\n",
      "    print(\"local value of var is {}. Now being incremented\".format(var))\n",
      "    var = arg + 1\n",
      "    return inner\n",
      "\n",
      "print(\"The value of the global var is {}\".format(var))\n",
      "nested1 = outer(6)\n",
      "nested2 = outer(99)\n",
      "print(\"The free variables carried by nested1 from outer scope are {}\".format(\n",
      "    zip(nested1.__code__.co_freevars, (c.cell_contents for c in nested1.__closure__))))\n",
      "print(\"The free variables carried by nested2 from outer scope are {}\".format(\n",
      "    zip(nested2.__code__.co_freevars, (c.cell_contents for c in nested2.__closure__))))\n",
      "nested1()\n",
      "nested2()\n",
      "print(\"The value of the global var still is {}\".format(var))\n"
     ],
     "language": "python",
     "metadata": {},
     "outputs": [
      {
       "output_type": "stream",
       "stream": "stdout",
       "text": [
        "The value of the global var is 5\n",
        "local value of var is 6. Now being incremented\n",
        "local value of var is 99. Now being incremented\n",
        "The free variables carried by nested1 from outer scope are [('var', 7)]\n",
        "The free variables carried by nested2 from outer scope are [('var', 100)]\n",
        "The value of var is 7\n",
        "The value of var is 100\n",
        "The value of the global var still is 5\n"
       ]
      }
     ],
     "prompt_number": 23
    },
    {
     "cell_type": "markdown",
     "metadata": {},
     "source": [
      "Now note the following :\n",
      "\n",
      "* *var* is created in the global scope, its value is set to 5 and remains 5 throughout the program\n",
      "* There is another *var* created within the scope of the *outer* function which shadows the global var within the lexical scope of outer.\n",
      "* The local value of *var* is initialised to the value passed as a parameter to *outer*. That is the value visible to inner() at declaration time\n",
      "* The local value of *var* is incremented after the *inner* function has been declared.\n",
      "* In general the local value of *var* declared is no longer valid once the function declaration of *outer* ends, since thats where its lexical scope ends.\n",
      "* However if a nested function is declared and returned from *outer* (in this case *inner*), then such a function continues to carry the variables available to it at declaration time. This is exactly what closures are, ie. the function *inner* closes over the scope of the function *outer*.\n",
      "* The variable value in the closure is not a snapshot of the value at the point in time the function was declared. It will reflect any changes after the inner function was declared but before the outer function got over\n",
      "* The variable values are passed to the nested function via its \\__closure\\__ attribute (variable names via \\__code__.co_freevars)\n",
      "\n",
      "To summarise the necessary learnings :\n",
      "\n",
      "* Nested functions help us implement partial application of functions\n",
      "* Any variables declared in the lexical scope of the outer nested functions are available to the inner nested functions even after the outer function declaration is over.\n",
      "* A new local scope gets created whenever a outer nested function is called. Any returned inner functions, as a result multiple outer function invocations, get independent copies of the local scope of each execution of the outer function."
     ]
    },
    {
     "cell_type": "heading",
     "level": 2,
     "metadata": {},
     "source": [
      "How is partial application useful ?"
     ]
    },
    {
     "cell_type": "markdown",
     "metadata": {},
     "source": [
      "There are a number of uses of partial applications. Some of these are "
     ]
    },
    {
     "cell_type": "heading",
     "level": 3,
     "metadata": {},
     "source": [
      "Creating specialised functions from general functions"
     ]
    },
    {
     "cell_type": "markdown",
     "metadata": {},
     "source": [
      "Many a times functions we can easily associate with are but specialised versions of more general functions. Writing more general functions allows is a better way to follow the **Do not repeat yourself (DRY)** principle. Specialising them can allow for easier readibility when using them, since they can be more intuitive to understand at call site.\n",
      "\n",
      "A simple generic function might be declared as follows"
     ]
    },
    {
     "cell_type": "code",
     "collapsed": false,
     "input": [
      "def exponent_of(base, exponent) :\n",
      "    return base ** exponent\n",
      "\n",
      "print(\"3 to the power 4 is {}\".format(\n",
      "    exponent_of(3,4)))"
     ],
     "language": "python",
     "metadata": {},
     "outputs": [
      {
       "output_type": "stream",
       "stream": "stdout",
       "text": [
        "3 to the power 4 is 81\n"
       ]
      }
     ],
     "prompt_number": 24
    },
    {
     "cell_type": "markdown",
     "metadata": {},
     "source": [
      "However a more specialised function might make for easier reading. While you could just as easily use *functools.partial*, the example below shows partial application using nested functions"
     ]
    },
    {
     "cell_type": "code",
     "collapsed": false,
     "input": [
      "def nth_power(exponent) :\n",
      "    def exponent_of(base) :\n",
      "        return base ** exponent\n",
      "    return exponent_of\n",
      "    \n",
      "square = nth_power(2)\n",
      "cube = nth_power(3)\n",
      "\n",
      "print(\"The square of 3 is {}\".format(square(3)))\n",
      "print(\"The cube of 4 is {}\".format(cube(4)))"
     ],
     "language": "python",
     "metadata": {},
     "outputs": [
      {
       "output_type": "stream",
       "stream": "stdout",
       "text": [
        "The square of 3 is 9\n",
        "The cube of 4 is 64\n"
       ]
      }
     ],
     "prompt_number": 25
    },
    {
     "cell_type": "heading",
     "level": 3,
     "metadata": {},
     "source": [
      "Temporal separation of function arguments"
     ]
    },
    {
     "cell_type": "markdown",
     "metadata": {},
     "source": [
      "In some cases, a function may need many arguments, some of which are specified and available at different points in time than others. A usual way of dealing with this is to carry forward all the available arguments to the eventual call site. Sometimes those that are specified early on are rarely if ever modified later. It becomes inconvenient to carry around all these variables in the namespace. An alternative is to create a partially applied function and carry forward only the partially applied function to the eventual call site. eg."
     ]
    },
    {
     "cell_type": "code",
     "collapsed": false,
     "input": [
      "# Conventional method\n",
      "\n",
      "def query_database(userid, password, query) :\n",
      "    # do query\n",
      "    # return results\n",
      "    \n",
      "def bar(userid, password):\n",
      "    return query_database(userid, password)\n",
      "    \n",
      "def foo(userid, password) :\n",
      "    return bar(userid, password)\n",
      "    \n",
      "def main(userid, password) :\n",
      "    # .. lot of code here .. eventually reaching\n",
      "    foo(userid, password)\n",
      "    \n",
      "    \n",
      "# Alternative method\n",
      "def get_query_agent(userid, password)\n",
      "    def do_query(query) :\n",
      "        # do query\n",
      "        # return results\n",
      "    return do_query\n",
      "    \n",
      "def bar(querying_func):\n",
      "    return func(querying_func)\n",
      "    \n",
      "def foo(querying_func) :\n",
      "    return bar(querying_func)\n",
      "    \n",
      "def main(userid, password) :\n",
      "    query_agent = get_query_agent(userid, password)\n",
      "    # .. much further down the line\n",
      "    foo(query_agent)\n"
     ],
     "language": "python",
     "metadata": {},
     "outputs": []
    },
    {
     "cell_type": "heading",
     "level": 3,
     "metadata": {},
     "source": [
      "Use closures instead of classes"
     ]
    },
    {
     "cell_type": "markdown",
     "metadata": {},
     "source": [
      "It is not uncommon to see classes with only one significant public method. In many such scenarios, the class constructor is used to specify the arguments of the method, and the method itself is used to perform the desired behaviour. This gives us temporal separation (object construction and method execution) and encapsulation of the arguments. It so happens the same can be done through using closures as well. (Note: although the example below is quite similar to the one above they serve to describe different intents)"
     ]
    },
    {
     "cell_type": "code",
     "collapsed": false,
     "input": [
      "# traditional method\n",
      "\n",
      "class Connection(object):\n",
      "    def __init__(userid, password):\n",
      "        self.userid = self.userid\n",
      "        self.password = self.password\n",
      "        \n",
      "    def execute(sql):\n",
      "        # execute SQL using userid, password.\n",
      "        # return results\n",
      "\n",
      "c = Connection(\"myuserid\", \"mypassword\")\n",
      "c.execute(\"select 'x' from dual;\")\n",
      "        \n",
      "# Using closures\n",
      "\n",
      "def get_connection(userid, password) :\n",
      "    def execute(sql):\n",
      "        # execute SQL using userid, password & sql\n",
      "        # return results\n",
      "    return execute\n",
      "\n",
      "c = get_connection(\"myuserid\", \"mypassword\")\n",
      "c(\"select 'x' from dual;\")"
     ],
     "language": "python",
     "metadata": {},
     "outputs": []
    },
    {
     "cell_type": "heading",
     "level": 3,
     "metadata": {},
     "source": [
      "Aside: Currying vs. Partial Applications"
     ]
    },
    {
     "cell_type": "markdown",
     "metadata": {},
     "source": [
      "As per the wikipedia article on [Currying](http://en.wikipedia.org/wiki/Currying), \n",
      "\n",
      "> In mathematics and computer science, currying is the technique of transforming a function that takes multiple arguments (or a tuple of arguments) in such a way that it can be called as a chain of functions, each with a single argument (partial application).\n",
      "\n",
      "It further goes on to define it as follows \n",
      "\n",
      "> Given a function f of type $\\scriptstyle f \\colon (X \\times Y) \\to Z$ , currying it makes a function $\\scriptstyle \\text{curry}(f) \\colon X \\to (Y \\to Z)$ . That is, $\\scriptstyle \\text{curry}(f)$  takes an argument of type $\\scriptstyle X$  and returns a function of type $\\scriptstyle Y \\to Z$ .\n",
      "\n",
      "With a further view to disambiguate the term from partial applications, it goes on to state that \n",
      "\n",
      "> Currying and partial function application are often conflated. One of the significant differences between the two is that a call to a partially applied function returns the result right away, not another function down the currying chain; this distinction can be illustrated clearly for functions whose arity is greater than two.\n",
      "> \n",
      "> Given a function of type $\\scriptstyle f \\colon (X \\times Y \\times Z) \\to N$ , currying produces $\\scriptstyle \\text{curry}(f) \\colon X \\to (Y \\to (Z \\to N))$ . That is, while an evaluation of the first function might be represented as $\\scriptstyle f(1, 2, 3)$, evaluation of the curried function would be represented as $\\scriptstyle f_\\text{curried}(1)(2)(3)$, applying each argument in turn to a single-argument function returned by the previous invocation. Note that after calling $\\scriptstyle f_\\text{curried}(1)$, we are left with a function that takes a single argument and returns another function, not a function that takes two arguments.\n",
      "\n",
      "Currying thus is just a special case of partial application, where we partially apply the arguments, one argument at a time, in the order in which they are declared. In general currying (especially as defined above) is not a useful notion to attempt to use in python. However you might find it getting used in context of python, and more often than not, it might mean partial application. How would currying actually look like, well for the curious, here's a function that can curry another"
     ]
    },
    {
     "cell_type": "code",
     "collapsed": false,
     "input": [
      "def add(a,b,c) :\n",
      "    return a +  b + c\n",
      "\n",
      "def curry(func) :\n",
      "    args = []\n",
      "    if func.__code__.co_argcount == 0 :\n",
      "        return func()\n",
      "    def wrap(arg) :\n",
      "        args.append(arg)\n",
      "        if len(args) == func.__code__.co_argcount :\n",
      "            return func(*args)\n",
      "        else :\n",
      "            return wrap\n",
      "    return wrap\n",
      "\n",
      "curried_add = curry(add)\n",
      "print(curried_add(3)(4)(5))\n"
     ],
     "language": "python",
     "metadata": {},
     "outputs": [
      {
       "output_type": "stream",
       "stream": "stdout",
       "text": [
        "12\n"
       ]
      }
     ],
     "prompt_number": 3
    },
    {
     "cell_type": "heading",
     "level": 2,
     "metadata": {},
     "source": [
      "Decorators"
     ]
    },
    {
     "cell_type": "markdown",
     "metadata": {},
     "source": [
      "Decorators were introduced as a syntactic addition to python language in [PEP-318](http://www.python.org/dev/peps/pep-0318/). It is often considered that the name decorators comes from the gang of four book on [Design Patterns](http://www.amazon.com/Design-Patterns-Elements-Object-Oriented-ebook/dp/B000SEIBB8). The PEP in fact clarifies it is not so (and acknowledges that the name has drawn its share of criticism and perhaps a better name will come up eventually - it did not). \n",
      "\n",
      "> The name 'decorator' probably owes more to its use in the compiler area -- a syntax tree is walked and annotated\n",
      "\n",
      "I've heard it being discussed that decorators are just nested or partially applied functions. While that is accurate, it misses an important distinction. Although both use the same technique, partial application is usually used to split a task into two. Decorators on the other hand are used to wrap one or more add-on tasks around a core task. So there are many many scenarios where you would use partially applied functions, but you would not want to use decorators.\n",
      "\n",
      "Let us once again start with the simple add function which we shall subsequently decorate"
     ]
    },
    {
     "cell_type": "code",
     "collapsed": false,
     "input": [
      "def add(a, b):\n",
      "    return a + b\n",
      "\n",
      "print(\"Adding 2 and 3 results in {}\".format(add(2,3)))\n",
      "\n",
      "# Note the following.\n",
      "# we shall contrast this later when function wrapping kicks in\n",
      "import inspect\n",
      "print(\"The specification for add is name={} args={}\".format(\n",
      "                            add.__name__, inspect.getargspec(add)))\n"
     ],
     "language": "python",
     "metadata": {},
     "outputs": [
      {
       "output_type": "stream",
       "stream": "stdout",
       "text": [
        "Adding 2 and 3 results in 5\n",
        "The specification for add is name=add args=ArgSpec(args=['a', 'b'], varargs=None, keywords=None, defaults=None)\n"
       ]
      }
     ],
     "prompt_number": 26
    },
    {
     "cell_type": "markdown",
     "metadata": {},
     "source": [
      "We shall now decorate this function with a tracer. A function which can print entry and exit to the desired function"
     ]
    },
    {
     "cell_type": "code",
     "collapsed": false,
     "input": [
      "def trace(func) :\n",
      "    def wrapper(*args, **kwargs) :\n",
      "        print(\"Entering {} with arguments {} {}\".format(\n",
      "                                        func.__name__, args, kwargs))\n",
      "        ret = func(*args, **kwargs)\n",
      "        print(\"Leaving {} with result {}\".format(func.__name__, ret))\n",
      "        return ret\n",
      "    return wrapper\n",
      "\n",
      "@trace  # <--- This is how a decorator is applied\n",
      "def add(a, b) :\n",
      "    return a + b\n",
      "\n",
      "print(\"Adding 2 and 3 results in {}\".format(add(2,3)))\n",
      "\n",
      "import inspect\n",
      "print(\"The specification for add is name={} args={}\".format(\n",
      "                            add.__name__, inspect.getargspec(add)))"
     ],
     "language": "python",
     "metadata": {},
     "outputs": [
      {
       "output_type": "stream",
       "stream": "stdout",
       "text": [
        "Entering add with arguments (2, 3) {}\n",
        "Leaving add with result 5\n",
        "Adding 2 and 3 results in 5\n",
        "The specification for add is name=wrapper args=ArgSpec(args=[], varargs='args', keywords='kwargs', defaults=None)\n"
       ]
      }
     ],
     "prompt_number": 28
    },
    {
     "cell_type": "markdown",
     "metadata": {},
     "source": [
      "Note that applying the trace function as a decorator using \"@trace\" did not just create a new function. It did create a new wrapped function, but also replaced the function in the namespace for the name \"add\" with the new wrapped function. The original function add is no longer available to be directly accessed from the namespace.\n",
      "\n",
      "Decorators are just the outer function in a nested function. The decorated function is essentially a closure which retains access to the variables as registered by the decorator in its local namespace and the rules of how such variables are lexically scoped but accessible by closures continue to apply.\n",
      "\n",
      "The function name is now changed if you were to inspect it. So add.\\__name\\__ now returns *wrapper* and not *add*. That can be corrected by using the *@wraps* decorator from the functools module."
     ]
    },
    {
     "cell_type": "code",
     "collapsed": false,
     "input": [
      "from functools import wraps\n",
      "\n",
      "def trace(func) :\n",
      "    @wraps(func) # <-- Applying the wraps decorator helps in the wrapped function retaining the original name\n",
      "    def wrapper(*args, **kwargs) :\n",
      "        print(\"Entering {} with arguments {} {}\".format(\n",
      "                                        func.__name__, args, kwargs))\n",
      "        ret = func(*args, **kwargs)\n",
      "        print(\"Leaving {} with result {}\".format(func.__name__, ret))\n",
      "        return ret\n",
      "    return wrapper\n",
      "\n",
      "@trace\n",
      "def add(a, b) :\n",
      "    return a + b\n",
      "\n",
      "print(\"Adding 2 and 3 results in {}\".format(add(2,3)))\n",
      "\n",
      "import inspect\n",
      "print(\"The specification for add is name={} args={}\".format(\n",
      "                               add.__name__, inspect.getargspec(add)))"
     ],
     "language": "python",
     "metadata": {},
     "outputs": [
      {
       "output_type": "stream",
       "stream": "stdout",
       "text": [
        "Entering add with arguments (2, 3) {}\n",
        "Leaving add with result 5\n",
        "Adding 2 and 3 results in 5\n",
        "The specification for add is name=add args=ArgSpec(args=[], varargs='args', keywords='kwargs', defaults=None)\n"
       ]
      }
     ],
     "prompt_number": 29
    },
    {
     "cell_type": "markdown",
     "metadata": {},
     "source": [
      "Here thankfully the name of the wrapped function is now *add* should anyone care to inspect the function. The argument specification still remains different. And it should if trace has to be a generic function which can trace all functions, not just those which have two parameters. \n",
      "\n",
      "The takeaway is that because decorators implement functions in place, **some information about the functions can get lost to function inspectors**. The same would not happen if you chose to explicitly wrap a function without using the decorator syntax as in the following. There are other effects as well eg. you can no longer easily unit test the original undecorated function. If the decorator introduces side effects or say changes the return value you have to deal with it in your unit tests.\n",
      "\n",
      "The code below once again demonstrates the scenario where trace is used as a wrapper, without actually using it as a decorator"
     ]
    },
    {
     "cell_type": "code",
     "collapsed": false,
     "input": [
      "def trace(func) :\n",
      "    def wrapper(*args, **kwargs) :\n",
      "        print(\"Entering {} with arguments {} {}\".format(\n",
      "                                        func.__name__, args, kwargs))\n",
      "        ret = func(*args, **kwargs)\n",
      "        print(\"Leaving {} with result {}\".format(func.__name__, ret))\n",
      "        return ret\n",
      "    return wrapper\n",
      "\n",
      "def add(a, b) :\n",
      "    return a + b\n",
      "\n",
      "# Not traced\n",
      "print(\"Adding 2 and 3 results in {}\".format(add(2,3)))\n",
      "\n",
      "# traced add\n",
      "print(\"Adding 4 and 5 results in {}\".format(trace(add)(4,5)))\n",
      "\n",
      "import inspect\n",
      "print(\"The specification for add is name={} args={}\".format(\n",
      "                            add.__name__, inspect.getargspec(add)))\n",
      "print(\"The specification for trace is name={} args={}\".format(\n",
      "                            trace.__name__, inspect.getargspec(trace)))"
     ],
     "language": "python",
     "metadata": {},
     "outputs": [
      {
       "output_type": "stream",
       "stream": "stdout",
       "text": [
        "Adding 2 and 3 results in 5\n",
        "Entering add with arguments (4, 5) {}\n",
        "Leaving add with result 9\n",
        "Adding 4 and 5 results in 9\n",
        "The specification for add is name=add args=ArgSpec(args=['a', 'b'], varargs=None, keywords=None, defaults=None)\n",
        "The specification for trace is name=trace args=ArgSpec(args=['func'], varargs=None, keywords=None, defaults=None)\n"
       ]
      }
     ],
     "prompt_number": 31
    },
    {
     "cell_type": "heading",
     "level": 3,
     "metadata": {},
     "source": [
      "Decorators with arguments"
     ]
    },
    {
     "cell_type": "markdown",
     "metadata": {},
     "source": [
      "Once one starts using decorators, pretty soon one wants to parameterise their behaviour. For example we might want to decide whether to log the entry/exit arguments and return values at the point where we apply the trace decorator to each function. I have seen people struggle with decorators when it gets to using decorators with arguments. But if one understands the basics of how decorators work, it is actually very easy to figure it out.\n",
      "\n",
      "Part of the confusion stems from what exactly is a decorator. For the purposes of this discussion a decorator is a function which takes exactly one argument, a function, and returns exactly one another, which is also a function. If you want to parameterise a decorator, the way (using a term used by the PEP) is to create a *decomaker*. A decomaker is a function which takes a bunch of arguments and return a decorator.\n",
      "\n",
      "Let us see the parameterised implementation of *trace* below. Under the definitions we just laid down, trace is no longer a decorator. It is a decomaker. ie. it takes a bunch of arguments and returns a decorator. That decorator in turn decorates the method add.\n",
      "\n",
      "For the remainder of this post, I shall use decorator as a generic placeholder for both decorators and decomakers (as generally most writings in python do). But hopefully the context should allow you to disambiguate as necessary."
     ]
    },
    {
     "cell_type": "code",
     "collapsed": false,
     "input": [
      "from functools import wraps\n",
      "\n",
      "def trace(trace_arguments = False) :\n",
      "    def decorator(func) :\n",
      "        @wraps(func) # <-- how the wrapped function retains the original name\n",
      "        def wrapper(*args, **kwargs) :\n",
      "            if trace_arguments :\n",
      "                print(\"Entering {} with arguments {} {}\".format(\n",
      "                                                func.__name__, args, kwargs))\n",
      "            else :\n",
      "                print(\"Entering {}\".format(func.__name__))\n",
      "            ret = func(*args, **kwargs)\n",
      "            if trace_arguments :\n",
      "                print(\"Leaving {} with result {}\".format(func.__name__, ret))\n",
      "            else :\n",
      "                print(\"Leaving {}\".format(func.__name__))\n",
      "            return ret\n",
      "        return wrapper\n",
      "    return decorator\n",
      "\n",
      "@trace(True)\n",
      "def add(a, b) :\n",
      "    return a + b\n",
      "\n",
      "@trace()\n",
      "def subtract(a, b) :\n",
      "    return a - b\n",
      "\n",
      "print(\"3 plus 5 is {}\".format(add(3,5)))\n",
      "print(\"5 minus 3 is {}\".format(subtract(5,3)))"
     ],
     "language": "python",
     "metadata": {},
     "outputs": [
      {
       "output_type": "stream",
       "stream": "stdout",
       "text": [
        "Entering add with arguments (3, 5) {}\n",
        "Leaving add with result 8\n",
        "3 plus 5 is 8\n",
        "Entering subtract\n",
        "Leaving subtract\n",
        "5 minus 3 is 2\n"
       ]
      }
     ],
     "prompt_number": 32
    },
    {
     "cell_type": "heading",
     "level": 3,
     "metadata": {},
     "source": [
      "Composing decorators"
     ]
    },
    {
     "cell_type": "markdown",
     "metadata": {},
     "source": [
      "Unsurprisingly decorators can be composed. After all they are just functions which accept one function and return another function, so composing should be trivial. This is often popularly referred to as chaining.\n",
      "\n",
      "Here's a example"
     ]
    },
    {
     "cell_type": "code",
     "collapsed": false,
     "input": [
      "from functools import wraps\n",
      "\n",
      "def trace(trace_arguments = False) :\n",
      "    def decorator(func) :\n",
      "        @wraps(func)\n",
      "        def wrapper(*args, **kwargs) :\n",
      "            if trace_arguments :\n",
      "                print(\"Entering {} with arguments {} {}\".format(\n",
      "                                                func.__name__, args, kwargs))\n",
      "            else :\n",
      "                print(\"Entering {}\".format(func.__name__))\n",
      "            ret = func(*args, **kwargs)\n",
      "            if trace_arguments :\n",
      "                print(\"Leaving {} with result {}\".format(func.__name__, ret))\n",
      "            else :\n",
      "                print(\"Leaving {}\".format(func.__name__))\n",
      "            return ret\n",
      "        return wrapper\n",
      "    return decorator\n",
      "\n",
      "# using a global for brevity\n",
      "function_calls = 0\n",
      "\n",
      "def track(func) :\n",
      "    @wraps(func) \n",
      "    def wrapper(*args, **kwargs):\n",
      "        global function_calls\n",
      "        function_calls = function_calls + 1\n",
      "        return func(*args, **kwargs)\n",
      "    return wrapper\n",
      "        \n",
      "\n",
      "@track\n",
      "@trace(True)\n",
      "def add(a, b) :\n",
      "    return a + b\n",
      "\n",
      "print(\"Function calls so far {}\".format(function_calls))\n",
      "print(\"3 + 5 = {}\".format(add(3,5)))\n",
      "print(\"2 + 7 = {}\".format(add(2,7)))\n",
      "print(\"Function calls so far {}\".format(function_calls))\n"
     ],
     "language": "python",
     "metadata": {},
     "outputs": [
      {
       "output_type": "stream",
       "stream": "stdout",
       "text": [
        "Function calls so far 0\n",
        "Entering add with arguments (3, 5) {}\n",
        "Leaving add with result 8\n",
        "3 + 5 = 8\n",
        "Entering add with arguments (2, 7) {}\n",
        "Leaving add with result 9\n",
        "2 + 7 = 9\n",
        "Function calls so far 2\n"
       ]
      }
     ],
     "prompt_number": 126
    },
    {
     "cell_type": "heading",
     "level": 2,
     "metadata": {},
     "source": [
      "Use of function decorators"
     ]
    },
    {
     "cell_type": "markdown",
     "metadata": {},
     "source": [
      "Function decorators are frequently used and are quite helpful. I doubt if I can create a comprehensive set of use cases, but will list some of the ones where I've observed decorators are useful."
     ]
    },
    {
     "cell_type": "heading",
     "level": 3,
     "metadata": {},
     "source": [
      "Applying aspects to functions"
     ]
    },
    {
     "cell_type": "markdown",
     "metadata": {},
     "source": [
      "Decorators are frequently used as an implementation technique for some facets of [Aspect Oriented Programming](http://en.wikipedia.org/wiki/Aspect-oriented_programming). The trace decorator (or decomaker) I described above implements a tracing aspect. You could imagine other decorators which for example update global counters (to keep track of how many web requests have been served), authorisation decorators for implementing ACLs, or [memoization](http://en.wikipedia.org/wiki/Memoization) ie. to cache results computed earlier and serve them if the function was invoked with the same arguments again. eg. [functools.lru_cache](http://docs.python.org/3.4/library/functools.html) is a memoization decorator. "
     ]
    },
    {
     "cell_type": "heading",
     "level": 3,
     "metadata": {},
     "source": [
      "Autoregistration of function handlers"
     ]
    },
    {
     "cell_type": "markdown",
     "metadata": {},
     "source": [
      "Many web frameworks allow you to configure the url route around its handler function using a decorator as below."
     ]
    },
    {
     "cell_type": "code",
     "collapsed": false,
     "input": [
      "@route(\"/show\")\n",
      "def show(request) :\n",
      "    # process the request and return the generated HTML"
     ],
     "language": "python",
     "metadata": {},
     "outputs": []
    },
    {
     "cell_type": "markdown",
     "metadata": {},
     "source": [
      "In this case there is a global routes repository list which contains the routes, and their handler functions. In the above example \"/show\" is the url_prefix that if matched should result in the show handler function being called. The routes engine is matches an incoming request to the routes in the list, and if a match is found, then the corresponding handler function is called giving it the request as an argument. Without decorators, you would need a separate place where all the routes and their handlers could be configured (sometimes called wiring up). With decorators like above, this configuration can be done at the site of each function declaration. (The part where the runtime discovers all such functions and calls them once in order to actually perform the registration is beyond the scope of this post). We could use decorators similarly to register event listeners etc."
     ]
    },
    {
     "cell_type": "heading",
     "level": 3,
     "metadata": {},
     "source": [
      "Markers, metadata and housekeeping"
     ]
    },
    {
     "cell_type": "markdown",
     "metadata": {},
     "source": [
      "Sometimes we want to mark a function as having a specific characteristic so that it can be processed differently at runtime. eg. celery marks each task handler using *@app.task* decorator. One might want to assign more metadata to the function. Decorators can also be used for basic housekeeping (eg. the *wraps* decorator seen earlier). Python itself requires us to use *@staticmethod* and *@classmethod* decorators to mark appropriate methods on a class."
     ]
    },
    {
     "cell_type": "heading",
     "level": 2,
     "metadata": {},
     "source": [
      "Class decorators"
     ]
    },
    {
     "cell_type": "markdown",
     "metadata": {},
     "source": [
      "Class decorators were introduced in Python 2.6 using [PEP-3129](http://www.python.org/dev/peps/pep-3129/). A class decorator is a function which gets a python class as an input. It performs the necessary decoration activities on the class and returns the decorated class. Much of what class decorators achieve can also be achieved through metaprogramming, and more often than not, being able to write good class decorator requires a decent understanding of the class meta model.\n",
      "\n",
      "The following example demonstrates how a class decorator can be used to substitute a class constructor to print a statement and then eventually call the original class constructor."
     ]
    },
    {
     "cell_type": "code",
     "collapsed": false,
     "input": [
      "def trace(class_):\n",
      "    original_init = class_.__init__\n",
      "    def __init__(self, *args, **kws):\n",
      "        print(\"Instantiating an object of class {}\".format(class_.__name__))\n",
      "        original_init(self, *args, **kws)\n",
      "    class_.__init__ = __init__\n",
      "    return class_\n",
      "\n",
      "@trace\n",
      "class Foo(object):\n",
      "    def __init__(self, value):\n",
      "        self.value = value\n",
      "        \n",
      "foo = Foo(5)\n",
      "print(\"The value of foo is {}\".format(foo.value))\n"
     ],
     "language": "python",
     "metadata": {},
     "outputs": [
      {
       "output_type": "stream",
       "stream": "stdout",
       "text": [
        "Instantiating an object of class Foo\n",
        "The value of foo is 5\n"
       ]
      }
     ],
     "prompt_number": 38
    }
   ],
   "metadata": {}
  }
 ]
}